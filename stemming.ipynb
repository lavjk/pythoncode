{
 "cells": [
  {
   "cell_type": "code",
   "execution_count": 6,
   "id": "c61bd668",
   "metadata": {},
   "outputs": [
    {
     "name": "stdout",
     "output_type": "stream",
     "text": [
      "hybantwalfdwhub\n"
     ]
    }
   ],
   "source": [
    "from nltk.tokenize import word_tokenize\n",
    "file=open(\"C:\\\\Users\\\\GPT BANTWAL\\\\Desktop\\\\BOOK1.TXT\")\n",
    "text=file.read()\n",
    "text=text.lower()\n",
    "import re\n",
    "text=re.sub('[^A-Za-z0-9]','',text)\n",
    "text=re.sub(\"\\s*\\d\\s*\",\"\",text).strip()\n",
    "print(text)\n"
   ]
  },
  {
   "cell_type": "code",
   "execution_count": 7,
   "id": "517f8a87",
   "metadata": {},
   "outputs": [
    {
     "name": "stdout",
     "output_type": "stream",
     "text": [
      "['hybantwalfdwhub']\n"
     ]
    }
   ],
   "source": [
    "words=word_tokenize(text,preserve_line=True)\n",
    "print(words)"
   ]
  },
  {
   "cell_type": "code",
   "execution_count": 12,
   "id": "9f4ed589",
   "metadata": {},
   "outputs": [
    {
     "name": "stdout",
     "output_type": "stream",
     "text": [
      "['hybantwalfdwhub']\n"
     ]
    }
   ],
   "source": [
    "from nltk.stem import PorterStemmer\n",
    "ps=PorterStemmer()\n",
    "ps_stem_sent=[ps.stem(words_sent)for words_sent in words]\n",
    "print(ps_stem_sent)"
   ]
  },
  {
   "cell_type": "code",
   "execution_count": null,
   "id": "96da943f",
   "metadata": {},
   "outputs": [],
   "source": []
  }
 ],
 "metadata": {
  "kernelspec": {
   "display_name": "Python 3 (ipykernel)",
   "language": "python",
   "name": "python3"
  },
  "language_info": {
   "codemirror_mode": {
    "name": "ipython",
    "version": 3
   },
   "file_extension": ".py",
   "mimetype": "text/x-python",
   "name": "python",
   "nbconvert_exporter": "python",
   "pygments_lexer": "ipython3",
   "version": "3.11.4"
  }
 },
 "nbformat": 4,
 "nbformat_minor": 5
}
