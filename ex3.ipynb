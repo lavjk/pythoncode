{
 "cells": [
  {
   "cell_type": "code",
   "execution_count": 2,
   "id": "dd215689",
   "metadata": {},
   "outputs": [
    {
     "name": "stdout",
     "output_type": "stream",
     "text": [
      "  employeeNo   Ename qualification subject\n",
      "0        101    rama            BE      cs\n",
      "1        102   bhima       Diploma      me\n",
      "2        103  mahesh        M.tech      ec\n",
      "3        104  lokesh           Bsc      at\n",
      "4        105  praksh           Msc      ce\n"
     ]
    }
   ],
   "source": [
    "import pandas as pd\n",
    "data={\n",
    "'employeeNo':['101','102','103','104','105'],\n",
    "'Ename':['rama','bhima','mahesh','lokesh','praksh'],\n",
    "'qualification':['BE','Diploma','M.tech','Bsc','Msc'],\n",
    "'subject':['cs','me','ec','at','ce']\n",
    "}\n",
    "df=pd.DataFrame(data)\n",
    "print(df)"
   ]
  },
  {
   "cell_type": "code",
   "execution_count": null,
   "id": "fc44a8fb",
   "metadata": {},
   "outputs": [],
   "source": []
  }
 ],
 "metadata": {
  "kernelspec": {
   "display_name": "Python 3 (ipykernel)",
   "language": "python",
   "name": "python3"
  },
  "language_info": {
   "codemirror_mode": {
    "name": "ipython",
    "version": 3
   },
   "file_extension": ".py",
   "mimetype": "text/x-python",
   "name": "python",
   "nbconvert_exporter": "python",
   "pygments_lexer": "ipython3",
   "version": "3.11.4"
  }
 },
 "nbformat": 4,
 "nbformat_minor": 5
}
