{
 "cells": [
  {
   "cell_type": "code",
   "execution_count": 3,
   "id": "b940ce56",
   "metadata": {},
   "outputs": [
    {
     "name": "stdout",
     "output_type": "stream",
     "text": [
      "  first name Last name              Types     departments  Year of Employee  \\\n",
      "0      aryan     singh  fulltime employee  administration                 2   \n",
      "1      rohan   agarwal              intem       technical                 3   \n",
      "2      priya      shah  fulltime Employee  administration                 5   \n",
      "3       yash    bhatia  parttime Employee       technical                 7   \n",
      "4   siddanth    khanna  fulltime Employee      management                 6   \n",
      "\n",
      "   Salarys  \n",
      "0    20000  \n",
      "1     5000  \n",
      "2    10000  \n",
      "3    10000  \n",
      "4    20000  \n"
     ]
    }
   ],
   "source": [
    "import pandas as pd\n",
    "Fname=pd.Series(['aryan','rohan','priya','yash','siddanth'])\n",
    "Lname=pd.Series(['singh','agarwal','shah','bhatia','khanna'])\n",
    "Type=pd.Series(['fulltime employee','intem','fulltime Employee','parttime Employee','fulltime Employee'])\n",
    "department=pd.Series(['administration','technical','administration','technical','management'])\n",
    "YoE=pd.Series([2,3,5,7,6])\n",
    "Salary=pd.Series([20000,5000,10000,10000,20000])\n",
    "data={\n",
    "    'first name':Fname,\n",
    "    'Last name':Lname,\n",
    "    'Types':Type,\n",
    "    'departments':department,\n",
    "    'Year of Employee':YoE,\n",
    "    'Salarys':Salary\n",
    "}\n",
    "df=pd.DataFrame(data)\n",
    "print(df)"
   ]
  },
  {
   "cell_type": "code",
   "execution_count": null,
   "id": "ee479f71",
   "metadata": {},
   "outputs": [],
   "source": []
  }
 ],
 "metadata": {
  "kernelspec": {
   "display_name": "Python 3 (ipykernel)",
   "language": "python",
   "name": "python3"
  },
  "language_info": {
   "codemirror_mode": {
    "name": "ipython",
    "version": 3
   },
   "file_extension": ".py",
   "mimetype": "text/x-python",
   "name": "python",
   "nbconvert_exporter": "python",
   "pygments_lexer": "ipython3",
   "version": "3.11.4"
  }
 },
 "nbformat": 4,
 "nbformat_minor": 5
}
