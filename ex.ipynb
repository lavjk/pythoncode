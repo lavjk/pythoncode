{
 "cells": [
  {
   "cell_type": "code",
   "execution_count": 1,
   "id": "1bac99d4",
   "metadata": {},
   "outputs": [],
   "source": [
    "import pandas as pd\n"
   ]
  },
  {
   "cell_type": "code",
   "execution_count": 4,
   "id": "4214d15f",
   "metadata": {},
   "outputs": [],
   "source": [
    "name=pd.Series(['Alice','bob','charle','david','eve'])"
   ]
  },
  {
   "cell_type": "code",
   "execution_count": 5,
   "id": "ba4377c5",
   "metadata": {},
   "outputs": [],
   "source": [
    "age=pd.Series([25,32,28,45,29])"
   ]
  },
  {
   "cell_type": "code",
   "execution_count": 6,
   "id": "254eab81",
   "metadata": {},
   "outputs": [],
   "source": [
    "cities=pd.Series(['NewYork','sanFrancisco','LosAngeles','Chicago','Miami'])"
   ]
  },
  {
   "cell_type": "code",
   "execution_count": 10,
   "id": "bea53d8d",
   "metadata": {},
   "outputs": [],
   "source": [
    "data={\n",
    "    'Name':name,\n",
    "    'Age':age,\n",
    "    'City':cities,\n",
    "}\n",
    "    "
   ]
  },
  {
   "cell_type": "code",
   "execution_count": 11,
   "id": "e4e27857",
   "metadata": {},
   "outputs": [],
   "source": [
    "df=pd.DataFrame(data)\n"
   ]
  },
  {
   "cell_type": "code",
   "execution_count": 12,
   "id": "e343344c",
   "metadata": {},
   "outputs": [
    {
     "name": "stdout",
     "output_type": "stream",
     "text": [
      "     Name  Age          City\n",
      "0   Alice   25       NewYork\n",
      "1     bob   32  sanFrancisco\n",
      "2  charle   28    LosAngeles\n",
      "3   david   45       Chicago\n",
      "4     eve   29         Miami\n"
     ]
    }
   ],
   "source": [
    "print(df)"
   ]
  },
  {
   "cell_type": "code",
   "execution_count": null,
   "id": "89a55de0",
   "metadata": {},
   "outputs": [],
   "source": []
  }
 ],
 "metadata": {
  "kernelspec": {
   "display_name": "Python 3 (ipykernel)",
   "language": "python",
   "name": "python3"
  },
  "language_info": {
   "codemirror_mode": {
    "name": "ipython",
    "version": 3
   },
   "file_extension": ".py",
   "mimetype": "text/x-python",
   "name": "python",
   "nbconvert_exporter": "python",
   "pygments_lexer": "ipython3",
   "version": "3.11.4"
  }
 },
 "nbformat": 4,
 "nbformat_minor": 5
}
